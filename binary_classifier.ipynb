{
 "cells": [
  {
   "cell_type": "code",
   "execution_count": 18,
   "metadata": {},
   "outputs": [],
   "source": [
    "import numpy as np\n",
    "from numpy.random import normal\n",
    "import matplotlib.pyplot as plt\n",
    "import matplotlib as mpl\n",
    "import scipy\n",
    "from cmdstanpy import CmdStanModel\n",
    "import cmdstanpy\n",
    "import arviz as az\n",
    "import pandas as pd\n",
    "import csv,re\n",
    "\n",
    "from DA_tools.DA_tools import ribbon_plot\n",
    "from DA_tools.FDA_data_prepare import create_spline_matrix\n",
    "from DA_tools.DA_colors import *\n",
    "\n",
    "plt.style.context(\"seaborn-white\")\n",
    "mpl.rcParams[\"figure.dpi\"] = 200"
   ]
  },
  {
   "cell_type": "code",
   "execution_count": 19,
   "metadata": {},
   "outputs": [],
   "source": [
    "LIGHT = \"#B3FFFF\"  # 179, 255, 255,\n",
    "LIGHT_HIGHLIGHT = \"#9AF6FF\"  # 154, 246,255\n",
    "MID = \"#67C3FF\"  # 103,195,255\n",
    "MID_HIGHLIGHT = \"#3490CC\"  # 52,144,204\n",
    "DARK = \"#015D99\"  # 1,93,153\n",
    "DARK_HIGHLIGHT = \"#002A66\"  # 0,42,102\n",
    "GREEN = \"#00FF00\"  # RGB\n",
    "LIGHT_GREY = \"#DDDDDD\"  # RGB"
   ]
  },
  {
   "cell_type": "code",
   "execution_count": 25,
   "metadata": {},
   "outputs": [],
   "source": [
    "acc_healthy = pd.read_csv('data_preprocesed/acc_healthy_samples.csv')\n",
    "acc_damaged = pd.read_csv('data_preprocesed/acc_damaged_samples.csv')\n",
    "acc_very_damaged = pd.read_csv('data_preprocesed/acc_very_damaged_samples.csv')\n",
    "\n",
    "gyro_healthy = pd.read_csv('data_preprocesed/gyro_healthy_samples.csv')\n",
    "gyro_damaged = pd.read_csv('data_preprocesed/gyro_damaged_samples.csv')\n",
    "gyro_very_damaged = pd.read_csv('data_preprocesed/gyro_very_damaged_samples.csv')\n",
    "\n",
    "gyro_agg_healthy = pd.read_csv('data_preprocesed/gyro_agg_healthy_samples.csv')\n",
    "gyro_agg_damaged = pd.read_csv('data_preprocesed/gyro_agg_damaged_samples.csv')\n",
    "gyro_agg_very_damaged = pd.read_csv('data_preprocesed/gyro_agg_very_damaged_samples.csv')"
   ]
  },
  {
   "cell_type": "code",
   "execution_count": 26,
   "metadata": {},
   "outputs": [],
   "source": [
    "acc_healthy_data = np.array([acc_healthy[col].values for col in acc_healthy.columns if col.startswith('Sample')])\n",
    "acc_damaged_data = np.array([acc_damaged[col].values for col in acc_damaged.columns if col.startswith('Sample')])\n",
    "acc_v_damaged_data = np.array([acc_very_damaged[col].values for col in acc_very_damaged.columns if col.startswith('Sample')])\n",
    "acc = [acc_healthy_data,acc_damaged_data,acc_v_damaged_data]\n",
    "\n",
    "gyro_healthy_data = np.array([gyro_healthy[col].values for col in gyro_healthy.columns if col.startswith('Sample')])\n",
    "gyro_damaged_data = np.array([gyro_damaged[col].values for col in gyro_damaged.columns if col.startswith('Sample')])\n",
    "gyro_very_damaged_data = np.array([gyro_very_damaged[col].values for col in gyro_very_damaged.columns if col.startswith('Sample')])\n",
    "gyro = [gyro_healthy_data,gyro_damaged_data,gyro_very_damaged_data]\n",
    "\n",
    "gyro_agg_healthy_data = np.array([gyro_agg_healthy[col].values for col in gyro_agg_healthy.columns if col.startswith('Sample')])\n",
    "gyro_agg_damaged_data = np.array([gyro_agg_damaged[col].values for col in gyro_agg_damaged.columns if col.startswith('Sample')])\n",
    "gyro_agg_very_damaged_data = np.array([gyro_agg_very_damaged[col].values for col in gyro_agg_very_damaged.columns if col.startswith('Sample')])\n",
    "gyro_agg = [gyro_agg_healthy_data,gyro_agg_damaged_data,gyro_agg_very_damaged_data]"
   ]
  },
  {
   "cell_type": "code",
   "execution_count": null,
   "metadata": {},
   "outputs": [],
   "source": []
  },
  {
   "cell_type": "code",
   "execution_count": 62,
   "metadata": {},
   "outputs": [],
   "source": [
    "def prepare_data(data_array,spl_order = 3, num_knots = 30, frequencies = None, mode = 'binary', training_samples = 5,lambda0=None):\n",
    "    N = len(data_array[0][0])\n",
    "    spl_order = spl_order\n",
    "    num_knots = num_knots\n",
    "    if frequencies is None:\n",
    "        times = np.linspace(0,N*10,N)\n",
    "        knot_list = np.quantile(times,np.linspace(0,1,num_knots))\n",
    "        B0 = create_spline_matrix(N, times, spl_order, num_knots)\n",
    "\n",
    "    else:\n",
    "        knot_list = np.quantile(frequencies,np.linspace(0,1,num_knots))\n",
    "        B0 = create_spline_matrix(N, frequencies, spl_order, num_knots)\n",
    "\n",
    "    K = num_knots+2\n",
    "    if mode == 'binary':\n",
    "        M = 2\n",
    "        IL1 = training_samples\n",
    "        IL2 = training_samples\n",
    "        IL = IL1+IL2\n",
    "\n",
    "        num_healthy = len(data_array[0])\n",
    "        num_damaged = len(data_array[1])+len(data_array[2])\n",
    "        data_array_damaged = np.concatenate([data_array[1],data_array[2]])\n",
    "        total = num_healthy + num_damaged\n",
    "        IT = total - IL\n",
    "\n",
    "        sampling_order_1 = np.random.permutation([*range(num_healthy)])\n",
    "        sampling_order_2 = np.random.permutation([*range(num_damaged)])\n",
    "\n",
    "        y_labeled = np.concatenate(\n",
    "        [np.array(data_array[0])[sampling_order_1[:IL1]],\n",
    "            np.array(data_array_damaged)[sampling_order_2[:IL2]]])\n",
    "        y_labeled = y_labeled.T\n",
    "        labels = np.concatenate([np.ones(IL1), 2*np.ones(IL2)]).astype(int)\n",
    "\n",
    "\n",
    "        y_test = np.concatenate(\n",
    "            [np.array(data_array[0])[sampling_order_1[IL1:]],\n",
    "                np.array(data_array_damaged)[sampling_order_2[IL2:]]\n",
    "                ]\n",
    "        )\n",
    "        y_test = y_test.T\n",
    "        y_test_labels = np.concatenate([np.ones(num_healthy-IL1), 2*np.ones(num_damaged-IL2)]).astype(int)\n",
    "        if lambda0 is None:\n",
    "            lambda0 = np.array([(IL1)/(IL), (IL2)/(IL)])\n",
    "\n",
    "        IT = y_test.shape[1]\n",
    "\n",
    "    if mode == 'all':\n",
    "        M = 3\n",
    "        IL1 = training_samples\n",
    "        IL2 = training_samples\n",
    "        IL3 = training_samples\n",
    "        IL = IL1+IL2+IL3\n",
    "\n",
    "        num_healthy = len(data_array[0])\n",
    "        num_damaged = len(data_array[1])\n",
    "        num_very_damaged = len(data_array[2])\n",
    "\n",
    "        total = num_healthy + num_damaged + num_very_damaged\n",
    "        IT = total - IL\n",
    "\n",
    "        sampling_order_1 = np.random.permutation([*range(num_healthy)])\n",
    "        sampling_order_2 = np.random.permutation([*range(num_damaged)])\n",
    "        sampling_order_3 = np.random.permutation([*range(num_very_damaged)])\n",
    "\n",
    "        y_labeled = np.concatenate(\n",
    "        [np.array(data_array[0])[sampling_order_1[:IL1]],\n",
    "            np.array(data_array[1])[sampling_order_2[:IL2]],\n",
    "            np.array(data_array[2])[sampling_order_3[:IL3]],\n",
    "            ])\n",
    "        y_labeled = y_labeled.T\n",
    "        labels = np.concatenate([np.ones(IL1), 2*np.ones(IL2), 3*np.ones(IL3)]).astype(int)\n",
    "\n",
    "\n",
    "        y_test = np.concatenate(\n",
    "            [np.array(data_array[0])[sampling_order_1[IL1:]],\n",
    "                np.array(data_array[1])[sampling_order_2[IL2:]],\n",
    "                np.array(data_array[2])[sampling_order_3[IL3:]]\n",
    "                ]\n",
    "        )\n",
    "        y_test = y_test.T\n",
    "        y_test_labels = np.concatenate([np.ones(num_healthy-IL1), 2*np.ones(num_damaged-IL2),3*np.ones(num_very_damaged-IL3)]).astype(int)\n",
    "        if lambda0 is None:\n",
    "            lambda0 = np.array([(IL1)/(IL), (IL2)/(IL), (IL3)/(IL)])\n",
    "\n",
    "        IT = y_test.shape[1]\n",
    "\n",
    "    data_out = {\n",
    "    \"N\": N,\n",
    "    \"IL\": IL,\n",
    "    \"K\": K,\n",
    "    \"M\": M,\n",
    "    \"x\": B0,\n",
    "    \"labels\": labels,\n",
    "    \"y_labeled\": y_labeled,\n",
    "    \"lambda0\": lambda0,\n",
    "    \"IT\": IT,\n",
    "    \"y_test\": y_test,\n",
    "    }\n",
    "\n",
    "    return data_out,y_test_labels,IT,IL, total\n",
    "    \n",
    "\n",
    "def get_results(model, data, seed, labels, IT, IL, total, mode = 'binary'):\n",
    "    if mode == 'binary':\n",
    "        result = model.sample(data=data, seed=seed)\n",
    "        probs_from_arviz = az.summary(\n",
    "        result, \"log_probabilities\", kind='stats', round_to=5)\n",
    "        probs_from_arviz_p = az.summary(\n",
    "            result, \"probabilities\", kind='stats', round_to=5)\n",
    "            \n",
    "        indices_cat1 = labels == 1\n",
    "        indices_cat2 = labels == 2\n",
    "\n",
    "        cat1 = probs_from_arviz.iloc[:IT, :].iloc[indices_cat1, :]\n",
    "        cat2 = probs_from_arviz.iloc[IT:2*IT, :].iloc[indices_cat2, :]\n",
    "\n",
    "        cat1p = probs_from_arviz_p.iloc[:IT, :].iloc[indices_cat1, :]\n",
    "        cat2p = probs_from_arviz_p.iloc[IT:2*IT, :].iloc[indices_cat2, :]\n",
    "\n",
    "\n",
    "        a = sum((cat1[\"mean\"].values) < np.log(0.5))\n",
    "        b = sum((cat2[\"mean\"].values) < np.log(0.5))\n",
    "\n",
    "        hit_rate = 1 - (a+b)/(total-IL)\n",
    "        print('hit rate = ',hit_rate)\n",
    "    if mode == 'all':\n",
    "        result = model.sample(data=data, seed=seed)\n",
    "        probs_from_arviz = az.summary(\n",
    "        result, \"log_probabilities\", kind='stats', round_to=5)\n",
    "        probs_from_arviz_p = az.summary(\n",
    "            result, \"probabilities\", kind='stats', round_to=5)\n",
    "            \n",
    "        indices_cat1 = labels == 1\n",
    "        indices_cat2 = labels == 2\n",
    "        indices_cat3 = labels == 2\n",
    "\n",
    "        cat1 = probs_from_arviz.iloc[:IT, :].iloc[indices_cat1, :]\n",
    "        cat2 = probs_from_arviz.iloc[IT:2*IT, :].iloc[indices_cat2, :]\n",
    "        cat3 = probs_from_arviz.iloc[2*IT:3*IT, :].iloc[indices_cat3, :]\n",
    "\n",
    "        cat1p = probs_from_arviz_p.iloc[:IT, :].iloc[indices_cat1, :]\n",
    "        cat2p = probs_from_arviz_p.iloc[IT:2*IT, :].iloc[indices_cat2, :]\n",
    "        cat3p = probs_from_arviz_p.iloc[2*IT:3*IT, :].iloc[indices_cat3, :]\n",
    "\n",
    "\n",
    "        a = sum((cat1[\"mean\"].values) < np.log(0.5))\n",
    "        b = sum((cat2[\"mean\"].values) < np.log(0.5))\n",
    "        c = sum((cat3[\"mean\"].values) < np.log(0.5))\n",
    "\n",
    "        hit_rate = 1 - (a+b+c)/(total-IL)\n",
    "        print('hit rate = ',hit_rate)\n",
    "        \n",
    "\n",
    "\n"
   ]
  },
  {
   "cell_type": "code",
   "execution_count": 81,
   "metadata": {},
   "outputs": [
    {
     "name": "stderr",
     "output_type": "stream",
     "text": [
      "14:34:30 - cmdstanpy - INFO - CmdStan start processing\n"
     ]
    },
    {
     "data": {
      "application/vnd.jupyter.widget-view+json": {
       "model_id": "ca49de8a1bb84607ae78e2ab1c488eeb",
       "version_major": 2,
       "version_minor": 0
      },
      "text/plain": [
       "chain 1 |          | 00:00 Status"
      ]
     },
     "metadata": {},
     "output_type": "display_data"
    },
    {
     "data": {
      "application/vnd.jupyter.widget-view+json": {
       "model_id": "720ca81792014d7eab0c280beff48bc3",
       "version_major": 2,
       "version_minor": 0
      },
      "text/plain": [
       "chain 2 |          | 00:00 Status"
      ]
     },
     "metadata": {},
     "output_type": "display_data"
    },
    {
     "data": {
      "application/vnd.jupyter.widget-view+json": {
       "model_id": "e5b3d832d4804c4fb3fa257bc725f186",
       "version_major": 2,
       "version_minor": 0
      },
      "text/plain": [
       "chain 3 |          | 00:00 Status"
      ]
     },
     "metadata": {},
     "output_type": "display_data"
    },
    {
     "data": {
      "application/vnd.jupyter.widget-view+json": {
       "model_id": "f5042b5366f54f9e8ab11a4ee379c671",
       "version_major": 2,
       "version_minor": 0
      },
      "text/plain": [
       "chain 4 |          | 00:00 Status"
      ]
     },
     "metadata": {},
     "output_type": "display_data"
    },
    {
     "name": "stdout",
     "output_type": "stream",
     "text": [
      "                                                                                                                                                                                                                                                                                                                                "
     ]
    },
    {
     "name": "stderr",
     "output_type": "stream",
     "text": [
      "14:34:33 - cmdstanpy - INFO - CmdStan done processing.\n"
     ]
    },
    {
     "name": "stdout",
     "output_type": "stream",
     "text": [
      "\n",
      "hit rate =  0.875\n"
     ]
    }
   ],
   "source": [
    "frequencies = gyro_damaged['Frequencies']\n",
    "data, labels, IT, IL, total = prepare_data(acc,frequencies=None,training_samples=5, num_knots=15, mode = 'binary')\n",
    "model = CmdStanModel(stan_file='stan/mix.stan')\n",
    "seed = 26042024\n",
    "get_results(model=model,data=data,seed=seed,labels=labels,IT=IT,IL=IL,total=total,mode='binary')"
   ]
  },
  {
   "cell_type": "code",
   "execution_count": 61,
   "metadata": {},
   "outputs": [],
   "source": []
  }
 ],
 "metadata": {
  "kernelspec": {
   "display_name": "venv_stan",
   "language": "python",
   "name": "python3"
  },
  "language_info": {
   "codemirror_mode": {
    "name": "ipython",
    "version": 3
   },
   "file_extension": ".py",
   "mimetype": "text/x-python",
   "name": "python",
   "nbconvert_exporter": "python",
   "pygments_lexer": "ipython3",
   "version": "3.10.9"
  }
 },
 "nbformat": 4,
 "nbformat_minor": 2
}
