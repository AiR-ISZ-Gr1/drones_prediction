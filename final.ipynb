{
 "cells": [
  {
   "cell_type": "markdown",
   "metadata": {},
   "source": [
    "---\n",
    "# Diagnosis of mechanical rotor faults in drones using functional gaussian mixture classifier\n",
    "B. Bartoszewski,\n",
    "K. Jarzyna\n",
    "---"
   ]
  },
  {
   "cell_type": "markdown",
   "metadata": {},
   "source": [
    "---"
   ]
  },
  {
   "cell_type": "markdown",
   "metadata": {},
   "source": [
    "### Problem formulation [0-4 pts]: Bartosz\n",
    "  - is the problem clearly stated [1 pt]\n",
    "  - what is the point of creating model, are potential use cases defined [1 pt]\n",
    "  - where do data comes from, what does it containt [1 pt]\n",
    "  - is preprocessing step clearly described [1 pt]"
   ]
  },
  {
   "cell_type": "markdown",
   "metadata": {},
   "source": [
    "---\n",
    "### Data preprocessing   [0-2 pts]: Bartosz\n",
    "- reasoning and types of actions taken on the dataset have been described [1 pt]\n",
    "- is preprocessing step clearly described [1 pt]\n"
   ]
  },
  {
   "cell_type": "markdown",
   "metadata": {},
   "source": [
    "---\n",
    "### Model [0-4 pts]: Bartosz 2,3 \n",
    "- are models sufficiently described (what are formulas, what are parameters, what data are required ) [1 pt] \n",
    "- are difference between two models explained [1 pt]  \n",
    "- is the difference in the models justified (e.g. does adding aditional parameter makes sense? ) [1 pt]  \n",
    "- are two different models specified [1 pt]"
   ]
  },
  {
   "cell_type": "markdown",
   "metadata": {},
   "source": [
    "---\n",
    "### Priors [0-4 pts]: Kacper\n",
    "- Have prior predictive checks been done for parameters (are parameters simulated from priors make sense) [1 pt]\n",
    "- How prior parameters were selected [1 pt]\n",
    "- Have prior predictive checks been done for measurements (are measurements simulated from priors make sense) [1 pt]\n",
    "- Is it explained why particular priors for parameters were selected [1 pt]\n"
   ]
  },
  {
   "cell_type": "markdown",
   "metadata": {},
   "source": [
    "---\n",
    "### Posterior analysis (model 1) [0-4 pts]: KAcper\n",
    "- have parameter marginal disrtibutions been analyzed (histograms of individual parametes plus summaries, are they diffuse or concentrated, what can we say about values) [1 pt]\n",
    "- were there any issues with the sampling? if there were what kind of ideas for mitigation were used [1 pt] \n",
    "- are the data consistent with posterior predictive samples and is it sufficiently commented (if they are not then is the justification provided)\n",
    "- are the samples from posterior predictive distribution analyzed [1 pt] "
   ]
  },
  {
   "cell_type": "markdown",
   "metadata": {},
   "source": [
    "---\n",
    "### Posterior analysis (model 2) [0-4 pts]:\n",
    "- have parameter marginal disrtibutions been analyzed (histograms of individual parametes plus summaries, are they diffuse or concentrated, what can we say about values) [1 pt]\n",
    "- were there any issues with the sampling? if there were what kind of ideas for mitigation were used [1 pt]\n",
    "- are the samples from posterior predictive distribution analyzed [1 pt]\n",
    "- are the data consistent with posterior predictive samples and is it sufficiently commented (if they are not then is the justification provided)"
   ]
  },
  {
   "cell_type": "markdown",
   "metadata": {},
   "source": [
    "---\n",
    "### Model comparison [0-4 pts]: Bartosz, Kacper\n",
    "- Have models been compared using information criteria [1 pt]\n",
    "- Have result for WAIC been discussed (is there a clear winner, or is there an overlap, were there any warnings) [1 pt]\n",
    "- Have result for PSIS-LOO been discussed (is there a clear winner, or is there an overlap, were there any warnings) [1 pt]\n",
    "- Was the model comparison discussed? Do authors agree with information criteria? Why in your opinion one model better than another [1 pt]\n"
   ]
  }
 ],
 "metadata": {
  "language_info": {
   "name": "python"
  }
 },
 "nbformat": 4,
 "nbformat_minor": 2
}
